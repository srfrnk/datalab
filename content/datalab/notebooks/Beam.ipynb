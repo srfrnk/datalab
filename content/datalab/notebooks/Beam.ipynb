{
 "cells": [
  {
   "cell_type": "code",
   "execution_count": null,
   "metadata": {
    "codeCollapsed": false,
    "collapsed": false,
    "hiddenCell": false
   },
   "outputs": [],
   "source": [
    "# import inspect,sys,pprint\n",
    "# import apache_beam as beam\n",
    "\n",
    "# print pprint.pprint(inspect.getmembers(sys.modules['apache_beam.io']))\n",
    "# print pprint.pprint(beam.options.pipeline_options.PipelineOptions().get_all_options())"
   ]
  },
  {
   "cell_type": "code",
   "execution_count": 10,
   "metadata": {
    "collapsed": false
   },
   "outputs": [
    {
     "name": "stdout",
     "output_type": "stream",
     "text": [
      "INFO:tensorflow:Assets added to graph.\n"
     ]
    },
    {
     "name": "stderr",
     "output_type": "stream",
     "text": [
      "INFO:tensorflow:Assets added to graph.\n"
     ]
    },
    {
     "name": "stdout",
     "output_type": "stream",
     "text": [
      "INFO:tensorflow:No assets to write.\n"
     ]
    },
    {
     "name": "stderr",
     "output_type": "stream",
     "text": [
      "INFO:tensorflow:No assets to write.\n"
     ]
    },
    {
     "name": "stdout",
     "output_type": "stream",
     "text": [
      "INFO:tensorflow:SavedModel written to: /tmp/tmpk_DspS/tftransform_tmp/0d544679bc7249a7b41cf6f59f2928a2/saved_model.pb\n"
     ]
    },
    {
     "name": "stderr",
     "output_type": "stream",
     "text": [
      "INFO:tensorflow:SavedModel written to: /tmp/tmpk_DspS/tftransform_tmp/0d544679bc7249a7b41cf6f59f2928a2/saved_model.pb\n"
     ]
    },
    {
     "name": "stdout",
     "output_type": "stream",
     "text": [
      "INFO:tensorflow:Saver not created because there are no variables in the graph to restore\n"
     ]
    },
    {
     "name": "stderr",
     "output_type": "stream",
     "text": [
      "INFO:tensorflow:Saver not created because there are no variables in the graph to restore\n"
     ]
    }
   ],
   "source": [
    "# %load beam.py\n",
    "import tempfile\n",
    "import json\n",
    "\n",
    "import apache_beam as beam\n",
    "import tensorflow as tf\n",
    "\n",
    "import tensorflow_transform.beam.impl as beam_impl\n",
    "from tensorflow_transform.tf_metadata import dataset_metadata\n",
    "from tensorflow_transform.tf_metadata import dataset_schema\n",
    "from tensorflow_transform.coders import example_proto_coder\n",
    "from tensorflow_transform.beam.tft_beam_io import beam_metadata_io\n",
    "\n",
    "\n",
    "def preprocess():\n",
    "    pipeline_options = beam.pipeline.PipelineOptions(flags=[], **{\n",
    "        'job_name': 'test',\n",
    "        'project': 'srfrnk-test',\n",
    "        'teardown_policy': 'TEARDOWN_ALWAYS',\n",
    "        'no_save_main_session': True\n",
    "    })\n",
    "\n",
    "    with beam.Pipeline('DirectRunner', options=pipeline_options) as pipeline:\n",
    "        with beam_impl.Context(temp_dir=tempfile.mkdtemp()):\n",
    "            text_lines = pipeline | 'read' >> beam.io.ReadFromText(\n",
    "                './weather.json')\n",
    "\n",
    "            parsed_lines = text_lines | 'parse' >> beam.Map(\n",
    "                lambda (text_line): json.loads(text_line))\n",
    "\n",
    "            raw_data = parsed_lines | 'map' >> beam.Map(lambda (line): {\n",
    "                'stn': int(line['stn']),\n",
    "                'year': int(line['year']),\n",
    "                'mo': int(line['mo']),\n",
    "                'da': int(line['da']),\n",
    "                'temp': line['temp'],\n",
    "            })\n",
    "\n",
    "            def preprocessing_fn(inputs):\n",
    "                stn = inputs['stn']\n",
    "                year = inputs['year']\n",
    "                mo = inputs['mo']\n",
    "                da = inputs['da']\n",
    "                temp = inputs['temp']\n",
    "\n",
    "                # stn = stn - tft.mean(stn)\n",
    "            #   y_normalized = tft.scale_to_0_1(y)\n",
    "            #   s_integerized = tft.string_to_int(s)\n",
    "            #   x_centered_times_y_normalized = (x_centered * y_normalized)\n",
    "                return {\n",
    "                    'stn': stn,\n",
    "                    'year': year,\n",
    "                    'mo': mo,\n",
    "                    'da': da,\n",
    "                    'temp': temp\n",
    "                }\n",
    "\n",
    "            raw_md = dataset_metadata.DatasetMetadata(dataset_schema.Schema({\n",
    "                'stn': dataset_schema.ColumnSchema(tf.int64, [], dataset_schema.FixedColumnRepresentation()),\n",
    "                'year': dataset_schema.ColumnSchema(tf.int64, [], dataset_schema.FixedColumnRepresentation()),\n",
    "                'mo': dataset_schema.ColumnSchema(tf.int64, [], dataset_schema.FixedColumnRepresentation()),\n",
    "                'da': dataset_schema.ColumnSchema(tf.int64, [], dataset_schema.FixedColumnRepresentation()),\n",
    "                'temp': dataset_schema.ColumnSchema(tf.float32, [], dataset_schema.FixedColumnRepresentation())\n",
    "            }))\n",
    "\n",
    "            # (trans_data, trans_md), trans_fn = (\n",
    "            (trans_data, trans_md), _ = (\n",
    "                (raw_data, raw_md) | beam_impl.AnalyzeAndTransformDataset(preprocessing_fn))\n",
    "\n",
    "            trans_data | 'write data' >> beam.io.WriteToTFRecord(\n",
    "                './data', coder=example_proto_coder.ExampleProtoCoder(trans_md.schema))\n",
    "            trans_md | 'write metadata' >> beam_metadata_io.WriteMetadata(\n",
    "                './metadata', pipeline=pipeline)\n",
    "\n",
    "\n",
    "preprocess()\n"
   ]
  },
  {
   "cell_type": "code",
   "execution_count": null,
   "metadata": {
    "collapsed": false
   },
   "outputs": [],
   "source": [
    "input_form = \"\"\"\n",
    "<table>\n",
    "<td style=\"border-style: none;\">\n",
    "<div style=\"border: solid 2px #666; width: 143px; height: 144px;\">\n",
    "<canvas width=\"140\" height=\"140\"></canvas>\n",
    "</div></td>\n",
    "<td style=\"border-style: none;\">\n",
    "<button onclick=\"clear_value()\">Clear</button>\n",
    "</td>\n",
    "</table>\n",
    "\"\"\"\n",
    "\n",
    "javascript = '''\n",
    "<script type=\"text/Javascript\">\n",
    "    var pixels = [];\n",
    "    for (var i = 0; i < 28*28; i++) pixels[i] = 0;\n",
    "    var click = 0;\n",
    "\n",
    "    var canvas = document.querySelector(\"canvas\");\n",
    "    canvas.addEventListener(\"mousemove\", function(e){\n",
    "        if (e.buttons == 1) {\n",
    "            click = 1;\n",
    "            canvas.getContext(\"2d\").fillStyle = \"rgb(0,0,0)\";\n",
    "            canvas.getContext(\"2d\").fillRect(e.offsetX, e.offsetY, 8, 8);\n",
    "            x = Math.floor(e.offsetY * 0.2);\n",
    "            y = Math.floor(e.offsetX * 0.2) + 1;\n",
    "            for (var dy = 0; dy < 2; dy++){\n",
    "                for (var dx = 0; dx < 2; dx++){\n",
    "                    if ((x + dx < 28) && (y + dy < 28)){\n",
    "                        pixels[(y+dy)+(x+dx)*28] = 1;\n",
    "                    }\n",
    "                }\n",
    "            }\n",
    "        } else {\n",
    "            if (click == 1) set_value();\n",
    "            click = 0;\n",
    "        }\n",
    "    });\n",
    "    \n",
    "    function set_value(){\n",
    "        var result = \"\"\n",
    "        for (var i = 0; i < 28*28; i++) result += pixels[i] + \",\"\n",
    "        var kernel = IPython.notebook.kernel;\n",
    "        kernel.execute(\"image = [\" + result + \"]\");\n",
    "        kernel.execute(\"f = open('request.json', 'w')\");\n",
    "        kernel.execute(\"f.write('{\\\\\"inputs\\\\\":%s}' % image)\");\n",
    "        kernel.execute(\"f.close()\");\n",
    "    }\n",
    "    \n",
    "    function clear_value(){\n",
    "        canvas.getContext(\"2d\").fillStyle = \"rgb(255,255,255)\";\n",
    "        canvas.getContext(\"2d\").fillRect(0, 0, 140, 140);\n",
    "        for (var i = 0; i < 28*28; i++) pixels[i] = 0;\n",
    "    }\n",
    "</script>\n",
    "'''\n",
    "\n",
    "from IPython.display import HTML\n",
    "HTML(input_form + javascript)"
   ]
  }
 ],
 "metadata": {
  "kernelspec": {
   "display_name": "Python 2",
   "language": "python",
   "name": "python2"
  },
  "language_info": {
   "codemirror_mode": {
    "name": "ipython",
    "version": 2
   },
   "file_extension": ".py",
   "mimetype": "text/x-python",
   "name": "python",
   "nbconvert_exporter": "python",
   "pygments_lexer": "ipython2",
   "version": "2.7.9"
  }
 },
 "nbformat": 4,
 "nbformat_minor": 2
}
