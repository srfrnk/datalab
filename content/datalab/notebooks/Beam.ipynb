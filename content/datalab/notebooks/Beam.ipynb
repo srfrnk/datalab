{
 "cells": [
  {
   "cell_type": "code",
   "execution_count": 9,
   "metadata": {
    "collapsed": false
   },
   "outputs": [
    {
     "name": "stderr",
     "output_type": "stream",
     "text": [
      "WARNING:root:Dataset does not exist so we will create it\n"
     ]
    }
   ],
   "source": [
    "import apache_beam as beam\n",
    "\n",
    "def run():\n",
    "  options = {\n",
    "      'staging_location': 'gs://doit-playground/staging',\n",
    "      'temp_location': 'gs://doit-playground/tmp',\n",
    "      'job_name': 'test',\n",
    "      'project': 'doit-playground',\n",
    "      'teardown_policy': 'TEARDOWN_ALWAYS',\n",
    "      'no_save_main_session': True\n",
    "    }\n",
    "  opts = beam.pipeline.PipelineOptions(flags=[], **options)\n",
    "  p = beam.Pipeline('DirectRunner', options=opts)\n",
    "  p1 = p | 'query' >> beam.io.Read(beam.io.BigQuerySource(use_standard_sql=True,query='SELECT edgeIP  FROM `doit-playground.playground.akamai_errors` LIMIT 1000')) \n",
    "  p1 = p1 | 'map' >> beam.Map(map_item) \n",
    "#   p1 = p1 | 'write' >> beam.io.Write(beam.io.WriteToText('gs://doit-playground/out/test.csv'))\n",
    "  p1 = p1 | 'write' >> beam.io.Write(beam.io.BigQuerySink(table='test',dataset='test',schema='msg:string'))\n",
    "  \n",
    "  p.run()\n",
    "\n",
    "def map_item(rowdict):\n",
    "  return {\"msg\":rowdict['edgeIP']}\n",
    "\n",
    "run()"
   ]
  },
  {
   "cell_type": "code",
   "execution_count": 5,
   "metadata": {
    "collapsed": false
   },
   "outputs": [
    {
     "data": {
      "text/html": [
       "\n",
       "    <div class=\"bqtv\" id=\"1_149796329438\"><table><tr><th>edgeIP</th></tr><tr><td>184.28.17.42</td></tr><tr><td>23.52.143.46</td></tr><tr><td>23.67.53.100</td></tr><tr><td>66.61.169.84</td></tr><tr><td>184.27.45.165</td></tr><tr><td>23.212.50.113</td></tr><tr><td>23.212.50.113</td></tr><tr><td>23.67.243.154</td></tr><tr><td>23.73.181.201</td></tr><tr><td>40.135.67.148</td></tr><tr><td>40.135.67.150</td></tr><tr><td>65.202.58.147</td></tr><tr><td>72.246.247.28</td></tr><tr><td>190.98.140.180</td></tr><tr><td>203.113.63.126</td></tr><tr><td>72.246.196.156</td></tr><tr><td>72.246.196.181</td></tr><tr><td>2.21.79.140</td></tr><tr><td>184.28.17.42</td></tr><tr><td>200.42.93.78</td></tr><tr><td>23.45.234.13</td></tr><tr><td>23.52.143.53</td></tr><tr><td>23.52.143.53</td></tr><tr><td>63.151.45.61</td></tr><tr><td>66.61.169.94</td></tr></table></div>\n",
       "    <br />(rows: 1000, time: 0.2s, cached, job: job_L_hQZDa7z1Mtqaz1UdCYgMYrt5I)<br />\n",
       "    <script>\n",
       "\n",
       "      require.config({\n",
       "        paths: {\n",
       "          d3: '//cdnjs.cloudflare.com/ajax/libs/d3/3.4.13/d3',\n",
       "          plotly: 'https://cdn.plot.ly/plotly-1.5.1.min.js?noext',\n",
       "          jquery: '//ajax.googleapis.com/ajax/libs/jquery/2.0.0/jquery.min'\n",
       "        },\n",
       "        map: {\n",
       "          '*': {\n",
       "            datalab: 'nbextensions/gcpdatalab'\n",
       "          }\n",
       "        },\n",
       "        shim: {\n",
       "          plotly: {\n",
       "            deps: ['d3', 'jquery'],\n",
       "            exports: 'plotly'\n",
       "          }\n",
       "        }\n",
       "      });\n",
       "\n",
       "      require(['datalab/charting', 'datalab/element!1_149796329438', 'base/js/events',\n",
       "          'datalab/style!/nbextensions/gcpdatalab/charting.css'],\n",
       "        function(charts, dom, events) {\n",
       "          charts.render('gcharts', dom, events, 'paged_table', [], {\"rows\": [{\"c\": [{\"v\": \"184.28.17.42\"}]}, {\"c\": [{\"v\": \"23.52.143.46\"}]}, {\"c\": [{\"v\": \"23.67.53.100\"}]}, {\"c\": [{\"v\": \"66.61.169.84\"}]}, {\"c\": [{\"v\": \"184.27.45.165\"}]}, {\"c\": [{\"v\": \"23.212.50.113\"}]}, {\"c\": [{\"v\": \"23.212.50.113\"}]}, {\"c\": [{\"v\": \"23.67.243.154\"}]}, {\"c\": [{\"v\": \"23.73.181.201\"}]}, {\"c\": [{\"v\": \"40.135.67.148\"}]}, {\"c\": [{\"v\": \"40.135.67.150\"}]}, {\"c\": [{\"v\": \"65.202.58.147\"}]}, {\"c\": [{\"v\": \"72.246.247.28\"}]}, {\"c\": [{\"v\": \"190.98.140.180\"}]}, {\"c\": [{\"v\": \"203.113.63.126\"}]}, {\"c\": [{\"v\": \"72.246.196.156\"}]}, {\"c\": [{\"v\": \"72.246.196.181\"}]}, {\"c\": [{\"v\": \"2.21.79.140\"}]}, {\"c\": [{\"v\": \"184.28.17.42\"}]}, {\"c\": [{\"v\": \"200.42.93.78\"}]}, {\"c\": [{\"v\": \"23.45.234.13\"}]}, {\"c\": [{\"v\": \"23.52.143.53\"}]}, {\"c\": [{\"v\": \"23.52.143.53\"}]}, {\"c\": [{\"v\": \"63.151.45.61\"}]}, {\"c\": [{\"v\": \"66.61.169.94\"}]}], \"cols\": [{\"type\": \"string\", \"id\": \"edgeIP\", \"label\": \"edgeIP\"}]},\n",
       "            {\n",
       "              pageSize: 25,\n",
       "              cssClassNames:  {\n",
       "                tableRow: 'gchart-table-row',\n",
       "                headerRow: 'gchart-table-headerrow',\n",
       "                oddTableRow: 'gchart-table-oddrow',\n",
       "                selectedTableRow: 'gchart-table-selectedrow',\n",
       "                hoverTableRow: 'gchart-table-hoverrow',\n",
       "                tableCell: 'gchart-table-cell',\n",
       "                headerCell: 'gchart-table-headercell',\n",
       "                rowNumberCell: 'gchart-table-rownumcell'\n",
       "              }\n",
       "            },\n",
       "            {source_index: 0, fields: 'edgeIP'},\n",
       "            0,\n",
       "            1000);\n",
       "        }\n",
       "      );\n",
       "    </script>\n",
       "  "
      ],
      "text/plain": [
       "QueryResultsTable job_L_hQZDa7z1Mtqaz1UdCYgMYrt5I"
      ]
     },
     "execution_count": 5,
     "metadata": {},
     "output_type": "execute_result"
    }
   ],
   "source": [
    "%%bq query \n",
    "SELECT edgeIP \n",
    "FROM `doit-playground.playground.akamai_errors` \n",
    "LIMIT 1000"
   ]
  }
 ],
 "metadata": {
  "kernelspec": {
   "display_name": "Python 2",
   "language": "python",
   "name": "python2"
  },
  "language_info": {
   "codemirror_mode": {
    "name": "ipython",
    "version": 2
   },
   "file_extension": ".py",
   "mimetype": "text/x-python",
   "name": "python",
   "nbconvert_exporter": "python",
   "pygments_lexer": "ipython2",
   "version": "2.7.9"
  }
 },
 "nbformat": 4,
 "nbformat_minor": 2
}
