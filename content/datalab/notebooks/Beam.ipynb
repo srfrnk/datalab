{
 "cells": [
  {
   "cell_type": "code",
   "execution_count": 2,
   "metadata": {
    "collapsed": false
   },
   "outputs": [
    {
     "name": "stderr",
     "output_type": "stream",
     "text": [
      "/usr/local/lib/python2.7/dist-packages/apache_beam/coders/typecoders.py:135: UserWarning: Using fallback coder for typehint: Any.\n",
      "  warnings.warn('Using fallback coder for typehint: %r.' % typehint)\n",
      "/usr/local/lib/python2.7/dist-packages/apache_beam/io/gcp/gcsio.py:113: DeprecationWarning: object() takes no parameters\n",
      "  super(GcsIO, cls).__new__(cls, storage_client))\n",
      "/usr/local/lib/python2.7/dist-packages/simplejson/encoder.py:291: DeprecationWarning: Interpreting naive datetime as local 2017-06-20 18:00:15.413026. Please add timezone info to timestamps.\n",
      "  chunks = self.iterencode(o, _one_shot=True)\n"
     ]
    }
   ],
   "source": [
    "import apache_beam as beam\n",
    "\n",
    "def run():\n",
    "  options = {\n",
    "      'staging_location': 'gs://doit-playground/staging',\n",
    "      'temp_location': 'gs://doist-playground/tmp',\n",
    "      'job_name': 'test',\n",
    "      'project': 'doit-playground',\n",
    "      'teardown_policy': 'TEARDOWN_ALWAYS',\n",
    "      'no_save_main_session': True\n",
    "    }\n",
    "  opts = beam.pipeline.PipelineOptions(flags=[], **options)\n",
    "  p = beam.Pipeline('DataflowRunner', options=opts)\n",
    "  p1 = p | 'query' >> beam.io.Read(beam.io.BigQuerySource(use_standard_sql=True,query='SELECT edgeIP  FROM `doit-playground.playground.akamai_errors` LIMIT 1000')) \n",
    "  p1 = p1 | 'map' >> beam.Map(map_item) \n",
    "#   p1 = p1 | 'write' >> beam.io.Write(beam.io.WriteToText('gs://doit-playground/out/test.csv'))\n",
    "  p1 = p1 | 'write' >> beam.io.Write(beam.io.BigQuerySink(table='test',dataset='test',schema='msg:string'))\n",
    "  \n",
    "  p.run()\n",
    "\n",
    "def map_item(rowdict):\n",
    "  return {\"msg\":rowdict['edgeIP']}\n",
    "\n",
    "run()"
   ]
  },
  {
   "cell_type": "code",
   "execution_count": 6,
   "metadata": {
    "collapsed": false
   },
   "outputs": [
    {
     "name": "stderr",
     "output_type": "stream",
     "text": [
      "/usr/local/lib/python2.7/dist-packages/simplejson/encoder.py:291: DeprecationWarning: Interpreting naive datetime as local 2017-06-20 17:55:57.862666. Please add timezone info to timestamps.\n",
      "  chunks = self.iterencode(o, _one_shot=True)\n"
     ]
    }
   ],
   "source": [
    "%%bash\n",
    "pip show apache_beam\n"
   ]
  },
  {
   "cell_type": "code",
   "execution_count": null,
   "metadata": {
    "collapsed": true
   },
   "outputs": [],
   "source": []
  },
  {
   "cell_type": "code",
   "execution_count": 7,
   "metadata": {
    "collapsed": false
   },
   "outputs": [
    {
     "data": {
      "text/html": [
       "\n",
       "    <div class=\"bqtv\" id=\"1_149798136484\"><table><tr><th>edgeIP</th></tr><tr><td>210.158.145.71</td></tr><tr><td>173.197.194.176</td></tr><tr><td>104.78.186.101</td></tr><tr><td>72.246.196.175</td></tr><tr><td>23.212.50.113</td></tr><tr><td>72.246.196.175</td></tr><tr><td>65.202.58.161</td></tr><tr><td>104.78.186.101</td></tr><tr><td>204.93.47.231</td></tr><tr><td>202.239.172.93</td></tr><tr><td>23.55.56.214</td></tr><tr><td>96.17.163.152</td></tr><tr><td>72.246.196.175</td></tr><tr><td>23.219.93.93</td></tr><tr><td>72.246.191.19</td></tr><tr><td>23.15.1.24</td></tr><tr><td>23.3.104.225</td></tr><tr><td>23.11.200.132</td></tr><tr><td>125.56.218.172</td></tr><tr><td>23.55.56.217</td></tr><tr><td>110.164.253.204</td></tr><tr><td>121.119.254.214</td></tr><tr><td>96.17.177.47</td></tr><tr><td>23.33.186.191</td></tr><tr><td>23.74.2.7</td></tr></table></div>\n",
       "    <br />(rows: 100, time: 0.2s, cached, job: job_cBz3zWiK0stc5oQ0Y-h47JxQm9M)<br />\n",
       "    <script>\n",
       "\n",
       "      require.config({\n",
       "        paths: {\n",
       "          d3: '//cdnjs.cloudflare.com/ajax/libs/d3/3.4.13/d3',\n",
       "          plotly: 'https://cdn.plot.ly/plotly-1.5.1.min.js?noext',\n",
       "          jquery: '//ajax.googleapis.com/ajax/libs/jquery/2.0.0/jquery.min'\n",
       "        },\n",
       "        map: {\n",
       "          '*': {\n",
       "            datalab: 'nbextensions/gcpdatalab'\n",
       "          }\n",
       "        },\n",
       "        shim: {\n",
       "          plotly: {\n",
       "            deps: ['d3', 'jquery'],\n",
       "            exports: 'plotly'\n",
       "          }\n",
       "        }\n",
       "      });\n",
       "\n",
       "      require(['datalab/charting', 'datalab/element!1_149798136484', 'base/js/events',\n",
       "          'datalab/style!/nbextensions/gcpdatalab/charting.css'],\n",
       "        function(charts, dom, events) {\n",
       "          charts.render('gcharts', dom, events, 'paged_table', [], {\"rows\": [{\"c\": [{\"v\": \"210.158.145.71\"}]}, {\"c\": [{\"v\": \"173.197.194.176\"}]}, {\"c\": [{\"v\": \"104.78.186.101\"}]}, {\"c\": [{\"v\": \"72.246.196.175\"}]}, {\"c\": [{\"v\": \"23.212.50.113\"}]}, {\"c\": [{\"v\": \"72.246.196.175\"}]}, {\"c\": [{\"v\": \"65.202.58.161\"}]}, {\"c\": [{\"v\": \"104.78.186.101\"}]}, {\"c\": [{\"v\": \"204.93.47.231\"}]}, {\"c\": [{\"v\": \"202.239.172.93\"}]}, {\"c\": [{\"v\": \"23.55.56.214\"}]}, {\"c\": [{\"v\": \"96.17.163.152\"}]}, {\"c\": [{\"v\": \"72.246.196.175\"}]}, {\"c\": [{\"v\": \"23.219.93.93\"}]}, {\"c\": [{\"v\": \"72.246.191.19\"}]}, {\"c\": [{\"v\": \"23.15.1.24\"}]}, {\"c\": [{\"v\": \"23.3.104.225\"}]}, {\"c\": [{\"v\": \"23.11.200.132\"}]}, {\"c\": [{\"v\": \"125.56.218.172\"}]}, {\"c\": [{\"v\": \"23.55.56.217\"}]}, {\"c\": [{\"v\": \"110.164.253.204\"}]}, {\"c\": [{\"v\": \"121.119.254.214\"}]}, {\"c\": [{\"v\": \"96.17.177.47\"}]}, {\"c\": [{\"v\": \"23.33.186.191\"}]}, {\"c\": [{\"v\": \"23.74.2.7\"}]}], \"cols\": [{\"type\": \"string\", \"id\": \"edgeIP\", \"label\": \"edgeIP\"}]},\n",
       "            {\n",
       "              pageSize: 25,\n",
       "              cssClassNames:  {\n",
       "                tableRow: 'gchart-table-row',\n",
       "                headerRow: 'gchart-table-headerrow',\n",
       "                oddTableRow: 'gchart-table-oddrow',\n",
       "                selectedTableRow: 'gchart-table-selectedrow',\n",
       "                hoverTableRow: 'gchart-table-hoverrow',\n",
       "                tableCell: 'gchart-table-cell',\n",
       "                headerCell: 'gchart-table-headercell',\n",
       "                rowNumberCell: 'gchart-table-rownumcell'\n",
       "              }\n",
       "            },\n",
       "            {source_index: 0, fields: 'edgeIP'},\n",
       "            0,\n",
       "            100);\n",
       "        }\n",
       "      );\n",
       "    </script>\n",
       "  "
      ],
      "text/plain": [
       "QueryResultsTable job_cBz3zWiK0stc5oQ0Y-h47JxQm9M"
      ]
     },
     "execution_count": 7,
     "metadata": {},
     "output_type": "execute_result"
    },
    {
     "name": "stderr",
     "output_type": "stream",
     "text": [
      "/usr/local/lib/python2.7/dist-packages/simplejson/encoder.py:291: DeprecationWarning: Interpreting naive datetime as local 2017-06-20 17:56:01.541739. Please add timezone info to timestamps.\n",
      "  chunks = self.iterencode(o, _one_shot=True)\n"
     ]
    }
   ],
   "source": [
    "%%bq query \n",
    "SELECT edgeIP \n",
    "FROM `doit-playground.playground.akamai_errors` \n",
    "LIMIT 100"
   ]
  }
 ],
 "metadata": {
  "kernelspec": {
   "display_name": "Python 2",
   "language": "python",
   "name": "python2"
  },
  "language_info": {
   "codemirror_mode": {
    "name": "ipython",
    "version": 2
   },
   "file_extension": ".py",
   "mimetype": "text/x-python",
   "name": "python",
   "nbconvert_exporter": "python",
   "pygments_lexer": "ipython2",
   "version": "2.7.9"
  }
 },
 "nbformat": 4,
 "nbformat_minor": 2
}
