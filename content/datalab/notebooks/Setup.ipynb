{
 "cells": [
  {
   "cell_type": "code",
   "execution_count": 7,
   "metadata": {
    "codeCollapsed": false,
    "collapsed": false,
    "hiddenCell": false
   },
   "outputs": [
    {
     "data": {
      "text/html": [
       "<table><tr><th>id</th><th>name</th></tr><tr><td>jdp-qa</td><td>JDP QA</td></tr><tr><td>jelly-data-pipeline</td><td>Jelly Data Pipeline</td></tr><tr><td>minutemediadwh</td><td>MinuteMediaDWH</td></tr><tr><td>traxretail-156808</td><td>TraxRetail</td></tr><tr><td>spotad-poc</td><td>spotad-poc</td></tr><tr><td>doitintl-support-portal</td><td>support-portal</td></tr><tr><td>alex-test-150916</td><td>alex-test</td></tr><tr><td>sentinel-one</td><td>sentinel-one</td></tr><tr><td>infolinks-qm01</td><td>infolinks-qm01</td></tr><tr><td>gmail-search-app</td><td>gmail-search-app</td></tr><tr><td>jellybtn-logger-qa</td><td>jellybtn-logger-qa</td></tr><tr><td>simplex-prod</td><td>Simplex Production</td></tr><tr><td>simplex-develop</td><td>Simplex Develop</td></tr><tr><td>infolinks-qa</td><td>infolinks-qa</td></tr><tr><td>billing-explorer-dev</td><td>billing-explorer-dev</td></tr><tr><td>aniview-production</td><td>aniview-production</td></tr><tr><td>pirate-kings-doit</td><td>pirate-kings-doit</td></tr><tr><td>inceptionvr-200</td><td>InceptionVR</td></tr><tr><td>brightcom-performance</td><td>Brightcom-Performance</td></tr><tr><td>content-aggregator-1</td><td>content-aggregator</td></tr><tr><td>taboola-akamai-log</td><td>taboola-akamai-log</td></tr><tr><td>newclientonboarding</td><td>NewClientOnboarding</td></tr><tr><td>real-staging-1313</td><td>real-staging</td></tr><tr><td>real-production</td><td>real-production</td></tr><tr><td>doit-demo-apps</td><td>demo-apps</td></tr><tr><td>quilt-sandbox</td><td>quilt-sandbox</td></tr><tr><td>cellebrite-cda</td><td>cellebrite-cda</td></tr><tr><td>anagog-bqguard</td><td>anagog-bqguard</td></tr><tr><td>tough-study-125310</td><td>PapTap Master</td></tr><tr><td>bqguard</td><td>bqguard</td></tr><tr><td>outbrain-security-labels</td><td>outbrain-security-labels</td></tr><tr><td>zen-migrator</td><td>zen-migrator</td></tr><tr><td>doit-playground</td><td>DoIT Playground</td></tr><tr><td>devops-tests</td><td>devops-tests</td></tr><tr><td>cp100-vadim</td><td>doit-cre</td></tr><tr><td>comodevelop</td><td>comodevelop</td></tr><tr><td>usemyroom</td><td>UseMyRoom</td></tr><tr><td>billing-explorer</td><td>BillingExplorer</td></tr><tr><td>gmail-cleaner-app</td><td>gmail-cleaner</td></tr><tr><td>contacts-cleaner-1015</td><td>Contacts Cleaner</td></tr><tr><td>it-girl-live</td><td>IT Girl Live</td></tr><tr><td>oxygenapp-prod</td><td>Oxygen</td></tr><tr><td>snappy-mark-812</td><td>SkiPic</td></tr><tr><td>infra-01</td><td>atom</td></tr><tr><td>qwilt-proxy</td><td>QwiltProxy</td></tr><tr><td>taboola-rowdata-bi</td><td>Taboola Row Data BI</td></tr><tr><td>warranteer-production</td><td>warranteer-production</td></tr><tr><td>datonics-gcp-01</td><td>Datonics</td></tr><tr><td>zipory-alpha</td><td>zipory-alpha</td></tr><tr><td>inffuse-platform</td><td>inffuse-platform</td></tr></table>"
      ],
      "text/plain": [
       "<IPython.core.display.HTML object>"
      ]
     },
     "execution_count": 7,
     "metadata": {},
     "output_type": "execute_result"
    }
   ],
   "source": [
    "%projects list"
   ]
  },
  {
   "cell_type": "code",
   "execution_count": 9,
   "metadata": {
    "collapsed": true
   },
   "outputs": [],
   "source": [
    "%projects set <YOUR-PROJECT-ID>"
   ]
  }
 ],
 "metadata": {
  "kernelspec": {
   "display_name": "Python 2",
   "language": "python",
   "name": "python2"
  },
  "language_info": {
   "codemirror_mode": {
    "name": "ipython",
    "version": 2
   },
   "file_extension": ".py",
   "mimetype": "text/x-python",
   "name": "python",
   "nbconvert_exporter": "python",
   "pygments_lexer": "ipython2",
   "version": "2.7.9"
  }
 },
 "nbformat": 4,
 "nbformat_minor": 2
}
