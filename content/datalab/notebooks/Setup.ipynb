{
 "cells": [
  {
   "cell_type": "code",
   "execution_count": 4,
   "metadata": {
    "codeCollapsed": false,
    "collapsed": false,
    "hiddenCell": false
   },
   "outputs": [
    {
     "data": {
      "text/html": [
       "<table><tr><th>id</th><th>name</th></tr><tr><td>srfrnk-test</td><td>test</td></tr></table>"
      ],
      "text/plain": [
       "<IPython.core.display.HTML object>"
      ]
     },
     "execution_count": 4,
     "metadata": {},
     "output_type": "execute_result"
    }
   ],
   "source": [
    "%projects list"
   ]
  },
  {
   "cell_type": "code",
   "execution_count": 5,
   "metadata": {
    "collapsed": true
   },
   "outputs": [],
   "source": [
    "%projects set srfrnk-test"
   ]
  },
  {
   "cell_type": "code",
   "execution_count": 2,
   "metadata": {
    "collapsed": false
   },
   "outputs": [
    {
     "name": "stdout",
     "output_type": "stream",
     "text": [
      "Name: ipykernel\n",
      "Version: 4.6.1\n",
      "Summary: IPython Kernel for Jupyter\n",
      "Home-page: http://ipython.org\n",
      "Author: IPython Development Team\n",
      "Author-email: ipython-dev@scipy.org\n",
      "License: BSD\n",
      "Location: /usr/local/lib/python2.7/dist-packages\n",
      "Requires: traitlets, ipython, jupyter-client, tornado\n",
      "---\n",
      "Name: google-cloud-dataflow\n",
      "Version: 2.0.0\n",
      "Summary: Google Cloud Dataflow SDK for Python, based on Apache Beam\n",
      "Home-page: https://cloud.google.com/dataflow/\n",
      "Author: Google, Inc.\n",
      "Author-email: dataflow-sdk@google.com\n",
      "License: Apache License, Version 2.0\n",
      "Location: /usr/local/lib/python2.7/dist-packages\n",
      "Requires: avro, crcmod, dill, grpcio, httplib2, mock, oauth2client, protobuf, pyyaml, google-apitools, proto-google-cloud-datastore-v1, googledatastore, google-cloud-bigquery\n",
      "---\n",
      "Name: tensorflow\n",
      "Version: 1.2.1\n",
      "Summary: TensorFlow helps the tensors flow\n",
      "Home-page: http://tensorflow.org/\n",
      "Author: Google Inc.\n",
      "Author-email: opensource@google.com\n",
      "License: Apache 2.0\n",
      "Location: /usr/local/lib/python2.7/dist-packages\n",
      "Requires: werkzeug, markdown, six, html5lib, protobuf, backports.weakref, wheel, numpy, mock, bleach\n",
      "---\n",
      "Name: apache-beam\n",
      "Version: 2.0.0\n",
      "Summary: Apache Beam SDK for Python\n",
      "Home-page: https://beam.apache.org\n",
      "Author: Apache Software Foundation\n",
      "Author-email: dev@beam.apache.org\n",
      "License: Apache License, Version 2.0\n",
      "Location: /usr/local/lib/python2.7/dist-packages\n",
      "Requires: avro, crcmod, dill, grpcio, httplib2, mock, oauth2client, protobuf, pyyaml\n"
     ]
    }
   ],
   "source": [
    "%%bash\n",
    "pip show ipykernel google-cloud-dataflow tensorflow apache-beam"
   ]
  }
 ],
 "metadata": {
  "kernelspec": {
   "display_name": "Python 2",
   "language": "python",
   "name": "python2"
  },
  "language_info": {
   "codemirror_mode": {
    "name": "ipython",
    "version": 2
   },
   "file_extension": ".py",
   "mimetype": "text/x-python",
   "name": "python",
   "nbconvert_exporter": "python",
   "pygments_lexer": "ipython2",
   "version": "2.7.9"
  }
 },
 "nbformat": 4,
 "nbformat_minor": 2
}
